{
 "cells": [
  {
   "cell_type": "code",
   "execution_count": 1,
   "metadata": {},
   "outputs": [],
   "source": [
    "import pandas as pd\n",
    "import numpy as np\n",
    "import matplotlib.pyplot as plt\n",
    "from sklearn.linear_model import LinearRegression"
   ]
  },
  {
   "cell_type": "code",
   "execution_count": 2,
   "metadata": {},
   "outputs": [
    {
     "data": {
      "text/html": [
       "<div>\n",
       "<style scoped>\n",
       "    .dataframe tbody tr th:only-of-type {\n",
       "        vertical-align: middle;\n",
       "    }\n",
       "\n",
       "    .dataframe tbody tr th {\n",
       "        vertical-align: top;\n",
       "    }\n",
       "\n",
       "    .dataframe thead th {\n",
       "        text-align: right;\n",
       "    }\n",
       "</style>\n",
       "<table border=\"1\" class=\"dataframe\">\n",
       "  <thead>\n",
       "    <tr style=\"text-align: right;\">\n",
       "      <th></th>\n",
       "      <th>age;\"job\";\"marital\";\"education\";\"default\";\"balance\";\"housing\";\"loan\";\"contact\";\"day\";\"month\";\"duration\";\"campaign\";\"pdays\";\"previous\";\"poutcome\";\"y\"</th>\n",
       "    </tr>\n",
       "  </thead>\n",
       "  <tbody>\n",
       "    <tr>\n",
       "      <th>0</th>\n",
       "      <td>58;\"management\";\"married\";\"tertiary\";\"no\";2143...</td>\n",
       "    </tr>\n",
       "    <tr>\n",
       "      <th>1</th>\n",
       "      <td>44;\"technician\";\"single\";\"secondary\";\"no\";29;\"...</td>\n",
       "    </tr>\n",
       "    <tr>\n",
       "      <th>2</th>\n",
       "      <td>33;\"entrepreneur\";\"married\";\"secondary\";\"no\";2...</td>\n",
       "    </tr>\n",
       "    <tr>\n",
       "      <th>3</th>\n",
       "      <td>47;\"blue-collar\";\"married\";\"unknown\";\"no\";1506...</td>\n",
       "    </tr>\n",
       "    <tr>\n",
       "      <th>4</th>\n",
       "      <td>33;\"unknown\";\"single\";\"unknown\";\"no\";1;\"no\";\"n...</td>\n",
       "    </tr>\n",
       "    <tr>\n",
       "      <th>...</th>\n",
       "      <td>...</td>\n",
       "    </tr>\n",
       "    <tr>\n",
       "      <th>45206</th>\n",
       "      <td>51;\"technician\";\"married\";\"tertiary\";\"no\";825;...</td>\n",
       "    </tr>\n",
       "    <tr>\n",
       "      <th>45207</th>\n",
       "      <td>71;\"retired\";\"divorced\";\"primary\";\"no\";1729;\"n...</td>\n",
       "    </tr>\n",
       "    <tr>\n",
       "      <th>45208</th>\n",
       "      <td>72;\"retired\";\"married\";\"secondary\";\"no\";5715;\"...</td>\n",
       "    </tr>\n",
       "    <tr>\n",
       "      <th>45209</th>\n",
       "      <td>57;\"blue-collar\";\"married\";\"secondary\";\"no\";66...</td>\n",
       "    </tr>\n",
       "    <tr>\n",
       "      <th>45210</th>\n",
       "      <td>37;\"entrepreneur\";\"married\";\"secondary\";\"no\";2...</td>\n",
       "    </tr>\n",
       "  </tbody>\n",
       "</table>\n",
       "<p>45211 rows × 1 columns</p>\n",
       "</div>"
      ],
      "text/plain": [
       "      age;\"job\";\"marital\";\"education\";\"default\";\"balance\";\"housing\";\"loan\";\"contact\";\"day\";\"month\";\"duration\";\"campaign\";\"pdays\";\"previous\";\"poutcome\";\"y\"\n",
       "0      58;\"management\";\"married\";\"tertiary\";\"no\";2143...                                                                                                  \n",
       "1      44;\"technician\";\"single\";\"secondary\";\"no\";29;\"...                                                                                                  \n",
       "2      33;\"entrepreneur\";\"married\";\"secondary\";\"no\";2...                                                                                                  \n",
       "3      47;\"blue-collar\";\"married\";\"unknown\";\"no\";1506...                                                                                                  \n",
       "4      33;\"unknown\";\"single\";\"unknown\";\"no\";1;\"no\";\"n...                                                                                                  \n",
       "...                                                  ...                                                                                                  \n",
       "45206  51;\"technician\";\"married\";\"tertiary\";\"no\";825;...                                                                                                  \n",
       "45207  71;\"retired\";\"divorced\";\"primary\";\"no\";1729;\"n...                                                                                                  \n",
       "45208  72;\"retired\";\"married\";\"secondary\";\"no\";5715;\"...                                                                                                  \n",
       "45209  57;\"blue-collar\";\"married\";\"secondary\";\"no\";66...                                                                                                  \n",
       "45210  37;\"entrepreneur\";\"married\";\"secondary\";\"no\";2...                                                                                                  \n",
       "\n",
       "[45211 rows x 1 columns]"
      ]
     },
     "metadata": {},
     "output_type": "display_data"
    }
   ],
   "source": [
    "data = pd.read_csv(\"bank_train.csv\")\n",
    "display(data)"
   ]
  },
  {
   "cell_type": "code",
   "execution_count": 3,
   "metadata": {},
   "outputs": [],
   "source": [
    "columns = str(data)"
   ]
  },
  {
   "cell_type": "code",
   "execution_count": 4,
   "metadata": {},
   "outputs": [
    {
     "name": "stdout",
     "output_type": "stream",
     "text": [
      "['      age', '\"job\"', '\"marital\"', '\"education\"', '\"default\"', '\"balance\"', '\"housing\"', '\"loan\"', '\"contact\"', '\"day\"', '\"month\"', '\"duration\"', '\"campaign\"', '\"pdays\"', '\"previous\"', '\"poutcome\"', '\"y\"\\n0      58', '\"management\"', '\"married\"', '\"tertiary\"', '\"no\"', '2143...                                                                                                  \\n1      44', '\"technician\"', '\"single\"', '\"secondary\"', '\"no\"', '29', '\"...                                                                                                  \\n2      33', '\"entrepreneur\"', '\"married\"', '\"secondary\"', '\"no\"', '2...                                                                                                  \\n3      47', '\"blue-collar\"', '\"married\"', '\"unknown\"', '\"no\"', '1506...                                                                                                  \\n4      33', '\"unknown\"', '\"single\"', '\"unknown\"', '\"no\"', '1', '\"no\"', '\"n...                                                                                                  \\n...                                                  ...                                                                                                  \\n45206  51', '\"technician\"', '\"married\"', '\"tertiary\"', '\"no\"', '825', '...                                                                                                  \\n45207  71', '\"retired\"', '\"divorced\"', '\"primary\"', '\"no\"', '1729', '\"n...                                                                                                  \\n45208  72', '\"retired\"', '\"married\"', '\"secondary\"', '\"no\"', '5715', '\"...                                                                                                  \\n45209  57', '\"blue-collar\"', '\"married\"', '\"secondary\"', '\"no\"', '66...                                                                                                  \\n45210  37', '\"entrepreneur\"', '\"married\"', '\"secondary\"', '\"no\"', '2...                                                                                                  \\n\\n[45211 rows x 1 columns]']\n"
     ]
    }
   ],
   "source": [
    "column_names = columns.split(\";\")\n",
    "print(column_names)"
   ]
  },
  {
   "cell_type": "code",
   "execution_count": 5,
   "metadata": {},
   "outputs": [
    {
     "name": "stdout",
     "output_type": "stream",
     "text": [
      "      age\n",
      "\"job\"\n",
      "\"marital\"\n",
      "\"education\"\n",
      "\"default\"\n",
      "\"balance\"\n",
      "\"housing\"\n",
      "\"loan\"\n",
      "\"contact\"\n",
      "\"day\"\n",
      "\"month\"\n",
      "\"duration\"\n",
      "\"campaign\"\n",
      "\"pdays\"\n",
      "\"previous\"\n",
      "\"poutcome\"\n",
      "\"y\"\n",
      "0      58\n",
      "\"management\"\n",
      "\"married\"\n",
      "\"tertiary\"\n",
      "\"no\"\n",
      "2143...                                                                                                  \n",
      "1      44\n",
      "\"technician\"\n",
      "\"single\"\n",
      "\"secondary\"\n",
      "\"no\"\n",
      "29\n",
      "\"...                                                                                                  \n",
      "2      33\n",
      "\"entrepreneur\"\n",
      "\"married\"\n",
      "\"secondary\"\n",
      "\"no\"\n",
      "2...                                                                                                  \n",
      "3      47\n",
      "\"blue-collar\"\n",
      "\"married\"\n",
      "\"unknown\"\n",
      "\"no\"\n",
      "1506...                                                                                                  \n",
      "4      33\n",
      "\"unknown\"\n",
      "\"single\"\n",
      "\"unknown\"\n",
      "\"no\"\n",
      "1\n",
      "\"no\"\n",
      "\"n...                                                                                                  \n",
      "...                                                  ...                                                                                                  \n",
      "45206  51\n",
      "\"technician\"\n",
      "\"married\"\n",
      "\"tertiary\"\n",
      "\"no\"\n",
      "825\n",
      "...                                                                                                  \n",
      "45207  71\n",
      "\"retired\"\n",
      "\"divorced\"\n",
      "\"primary\"\n",
      "\"no\"\n",
      "1729\n",
      "\"n...                                                                                                  \n",
      "45208  72\n",
      "\"retired\"\n",
      "\"married\"\n",
      "\"secondary\"\n",
      "\"no\"\n",
      "5715\n",
      "\"...                                                                                                  \n",
      "45209  57\n",
      "\"blue-collar\"\n",
      "\"married\"\n",
      "\"secondary\"\n",
      "\"no\"\n",
      "66...                                                                                                  \n",
      "45210  37\n",
      "\"entrepreneur\"\n",
      "\"married\"\n",
      "\"secondary\"\n",
      "\"no\"\n",
      "2...                                                                                                  \n",
      "\n",
      "[45211 rows x 1 columns]\n"
     ]
    }
   ],
   "source": [
    "for a in range(0, len(column_names)):\n",
    "    print( column_names[a] )"
   ]
  },
  {
   "cell_type": "code",
   "execution_count": 6,
   "metadata": {},
   "outputs": [
    {
     "name": "stdout",
     "output_type": "stream",
     "text": [
      "      age\n"
     ]
    }
   ],
   "source": [
    "print(column_names[0])"
   ]
  },
  {
   "cell_type": "code",
   "execution_count": 7,
   "metadata": {},
   "outputs": [
    {
     "name": "stdout",
     "output_type": "stream",
     "text": [
      "2...                                                                                                  \n",
      "\n",
      "[45211 rows x 1 columns]\n"
     ]
    }
   ],
   "source": [
    "print(column_names[-1])"
   ]
  },
  {
   "cell_type": "code",
   "execution_count": 8,
   "metadata": {},
   "outputs": [
    {
     "name": "stdout",
     "output_type": "stream",
     "text": [
      "age\n"
     ]
    }
   ],
   "source": [
    "first = column_names[0][-3:len(column_names[0])]\n",
    "print(first)"
   ]
  },
  {
   "cell_type": "code",
   "execution_count": 9,
   "metadata": {},
   "outputs": [
    {
     "name": "stdout",
     "output_type": "stream",
     "text": [
      "2\n"
     ]
    }
   ],
   "source": [
    "last = column_names[len(column_names) - 1][0]\n",
    "print(last)"
   ]
  },
  {
   "cell_type": "code",
   "execution_count": 10,
   "metadata": {},
   "outputs": [
    {
     "name": "stdout",
     "output_type": "stream",
     "text": [
      "['\"job\"', '\"marital\"', '\"education\"', '\"default\"', '\"balance\"', '\"housing\"', '\"loan\"', '\"contact\"', '\"day\"', '\"month\"', '\"duration\"', '\"campaign\"', '\"pdays\"', '\"previous\"', '\"poutcome\"', '\"y\"\\n0      58', '\"management\"', '\"married\"', '\"tertiary\"', '\"no\"', '2143...                                                                                                  \\n1      44', '\"technician\"', '\"single\"', '\"secondary\"', '\"no\"', '29', '\"...                                                                                                  \\n2      33', '\"entrepreneur\"', '\"married\"', '\"secondary\"', '\"no\"', '2...                                                                                                  \\n3      47', '\"blue-collar\"', '\"married\"', '\"unknown\"', '\"no\"', '1506...                                                                                                  \\n4      33', '\"unknown\"', '\"single\"', '\"unknown\"', '\"no\"', '1', '\"no\"', '\"n...                                                                                                  \\n...                                                  ...                                                                                                  \\n45206  51', '\"technician\"', '\"married\"', '\"tertiary\"', '\"no\"', '825', '...                                                                                                  \\n45207  71', '\"retired\"', '\"divorced\"', '\"primary\"', '\"no\"', '1729', '\"n...                                                                                                  \\n45208  72', '\"retired\"', '\"married\"', '\"secondary\"', '\"no\"', '5715', '\"...                                                                                                  \\n45209  57', '\"blue-collar\"', '\"married\"', '\"secondary\"', '\"no\"', '66...                                                                                                  \\n45210  37', '\"entrepreneur\"', '\"married\"', '\"secondary\"', '\"no\"']\n"
     ]
    }
   ],
   "source": [
    "middle = column_names[1:-1]\n",
    "print(middle)"
   ]
  },
  {
   "cell_type": "code",
   "execution_count": 11,
   "metadata": {},
   "outputs": [
    {
     "name": "stdout",
     "output_type": "stream",
     "text": [
      "['age', '\"job\"', '\"marital\"', '\"education\"', '\"default\"', '\"balance\"', '\"housing\"', '\"loan\"', '\"contact\"', '\"day\"', '\"month\"', '\"duration\"', '\"campaign\"', '\"pdays\"', '\"previous\"', '\"poutcome\"', '\"y\"\\n0      58', '\"management\"', '\"married\"', '\"tertiary\"', '\"no\"', '2143...                                                                                                  \\n1      44', '\"technician\"', '\"single\"', '\"secondary\"', '\"no\"', '29', '\"...                                                                                                  \\n2      33', '\"entrepreneur\"', '\"married\"', '\"secondary\"', '\"no\"', '2...                                                                                                  \\n3      47', '\"blue-collar\"', '\"married\"', '\"unknown\"', '\"no\"', '1506...                                                                                                  \\n4      33', '\"unknown\"', '\"single\"', '\"unknown\"', '\"no\"', '1', '\"no\"', '\"n...                                                                                                  \\n...                                                  ...                                                                                                  \\n45206  51', '\"technician\"', '\"married\"', '\"tertiary\"', '\"no\"', '825', '...                                                                                                  \\n45207  71', '\"retired\"', '\"divorced\"', '\"primary\"', '\"no\"', '1729', '\"n...                                                                                                  \\n45208  72', '\"retired\"', '\"married\"', '\"secondary\"', '\"no\"', '5715', '\"...                                                                                                  \\n45209  57', '\"blue-collar\"', '\"married\"', '\"secondary\"', '\"no\"', '66...                                                                                                  \\n45210  37', '\"entrepreneur\"', '\"married\"', '\"secondary\"', '\"no\"', '2']\n",
      "73\n"
     ]
    }
   ],
   "source": [
    "columns = [first] + middle + [last]\n",
    "print(columns)\n",
    "print(len(columns))"
   ]
  },
  {
   "cell_type": "code",
   "execution_count": 12,
   "metadata": {},
   "outputs": [
    {
     "name": "stderr",
     "output_type": "stream",
     "text": [
      "/var/folders/5p/nlt6bn5j1j5dt69qrb8949sh0000gn/T/ipykernel_2721/1387918353.py:20: FutureWarning: Series.__getitem__ treating keys as positions is deprecated. In a future version, integer keys will always be treated as labels (consistent with DataFrame behavior). To access a value by position, use `ser.iloc[pos]`\n",
      "  rows = row[0].split(\";\")\n"
     ]
    }
   ],
   "source": [
    "age = []\n",
    "job = []\n",
    "marital = []\n",
    "education = []\n",
    "default_rate = []\n",
    "balance = []\n",
    "housing = []\n",
    "loan = []\n",
    "contact = []\n",
    "day = []\n",
    "month = []\n",
    "duration = []\n",
    "campaign = []\n",
    "pdays = []\n",
    "previous = []\n",
    "poutcome = []\n",
    "y = []\n",
    "\n",
    "for index, row in data.iterrows():\n",
    "    rows = row[0].split(\";\")\n",
    "    age.append( rows[0] )\n",
    "    job.append(rows[1])\n",
    "    marital.append(rows[2])\n",
    "    education.append(rows[3])\n",
    "    default_rate.append(rows[4])\n",
    "    balance.append(rows[5])\n",
    "    housing.append(rows[6])\n",
    "    loan.append(rows[7])\n",
    "    contact.append(rows[8])\n",
    "    day.append(rows[9])\n",
    "    month.append(rows[10])\n",
    "    duration.append(rows[11])\n",
    "    campaign.append(rows[12])\n",
    "    pdays.append(rows[13])\n",
    "    previous.append(rows[14])\n",
    "    poutcome.append(rows[15])\n",
    "    y.append(rows[16])\n"
   ]
  },
  {
   "cell_type": "code",
   "execution_count": 13,
   "metadata": {},
   "outputs": [
    {
     "name": "stdout",
     "output_type": "stream",
     "text": [
      "{'age': None, '\"job\"': None, '\"marital\"': None, '\"education\"': None, '\"default\"': None, '\"balance\"': None, '\"housing\"': None, '\"loan\"': None, '\"contact\"': None, '\"day\"': None, '\"month\"': None, '\"duration\"': None, '\"campaign\"': None, '\"pdays\"': None, '\"previous\"': None, '\"poutcome\"': None, '\"y\"\\n0      58': None, '\"management\"': None, '\"married\"': None, '\"tertiary\"': None, '\"no\"': None, '2143...                                                                                                  \\n1      44': None, '\"technician\"': None, '\"single\"': None, '\"secondary\"': None, '29': None, '\"...                                                                                                  \\n2      33': None, '\"entrepreneur\"': None, '2...                                                                                                  \\n3      47': None, '\"blue-collar\"': None, '\"unknown\"': None, '1506...                                                                                                  \\n4      33': None, '1': None, '\"n...                                                                                                  \\n...                                                  ...                                                                                                  \\n45206  51': None, '825': None, '...                                                                                                  \\n45207  71': None, '\"retired\"': None, '\"divorced\"': None, '\"primary\"': None, '1729': None, '\"n...                                                                                                  \\n45208  72': None, '5715': None, '\"...                                                                                                  \\n45209  57': None, '66...                                                                                                  \\n45210  37': None, '2': None}\n"
     ]
    }
   ],
   "source": [
    "table = { key: None for key in columns }\n",
    "print(table)"
   ]
  },
  {
   "cell_type": "code",
   "execution_count": 14,
   "metadata": {},
   "outputs": [],
   "source": [
    "table[\"age\"] = age\n",
    "table[\"job\"] = job\n",
    "table[\"marital\"] = marital \n",
    "table[\"education\"] = education\n",
    "table[\"default_rate\"] = default_rate\n",
    "table[\"balance\"] = balance \n",
    "table[\"housing\"] = housing \n",
    "table[\"loan\"] = loan \n",
    "table[\"contact\"] = contact \n",
    "table[\"day\"] = day \n",
    "table[\"month\"] = month \n",
    "table[\"duration\"] = duration \n",
    "table[\"campaign\"] = campaign \n",
    "table[\"pdays\"] = pdays \n",
    "table[\"previous\"] = previous \n",
    "table[\"poutcome\"] = poutcome \n",
    "table[\"y\"] = y\n"
   ]
  },
  {
   "cell_type": "code",
   "execution_count": 30,
   "metadata": {},
   "outputs": [
    {
     "data": {
      "text/html": [
       "<div>\n",
       "<style scoped>\n",
       "    .dataframe tbody tr th:only-of-type {\n",
       "        vertical-align: middle;\n",
       "    }\n",
       "\n",
       "    .dataframe tbody tr th {\n",
       "        vertical-align: top;\n",
       "    }\n",
       "\n",
       "    .dataframe thead th {\n",
       "        text-align: right;\n",
       "    }\n",
       "</style>\n",
       "<table border=\"1\" class=\"dataframe\">\n",
       "  <thead>\n",
       "    <tr style=\"text-align: right;\">\n",
       "      <th></th>\n",
       "      <th>age</th>\n",
       "      <th>\"job\"</th>\n",
       "      <th>\"marital\"</th>\n",
       "      <th>\"education\"</th>\n",
       "      <th>\"default\"</th>\n",
       "      <th>\"balance\"</th>\n",
       "      <th>\"housing\"</th>\n",
       "      <th>\"loan\"</th>\n",
       "      <th>\"contact\"</th>\n",
       "      <th>\"day\"</th>\n",
       "      <th>...</th>\n",
       "      <th>loan</th>\n",
       "      <th>contact</th>\n",
       "      <th>day</th>\n",
       "      <th>month</th>\n",
       "      <th>duration</th>\n",
       "      <th>campaign</th>\n",
       "      <th>pdays</th>\n",
       "      <th>previous</th>\n",
       "      <th>poutcome</th>\n",
       "      <th>y</th>\n",
       "    </tr>\n",
       "  </thead>\n",
       "  <tbody>\n",
       "    <tr>\n",
       "      <th>0</th>\n",
       "      <td>58</td>\n",
       "      <td>None</td>\n",
       "      <td>None</td>\n",
       "      <td>None</td>\n",
       "      <td>None</td>\n",
       "      <td>None</td>\n",
       "      <td>None</td>\n",
       "      <td>None</td>\n",
       "      <td>None</td>\n",
       "      <td>None</td>\n",
       "      <td>...</td>\n",
       "      <td>\"no\"</td>\n",
       "      <td>\"unknown\"</td>\n",
       "      <td>5</td>\n",
       "      <td>\"may\"</td>\n",
       "      <td>261</td>\n",
       "      <td>1</td>\n",
       "      <td>-1</td>\n",
       "      <td>0</td>\n",
       "      <td>\"unknown\"</td>\n",
       "      <td>\"no\"</td>\n",
       "    </tr>\n",
       "    <tr>\n",
       "      <th>1</th>\n",
       "      <td>44</td>\n",
       "      <td>None</td>\n",
       "      <td>None</td>\n",
       "      <td>None</td>\n",
       "      <td>None</td>\n",
       "      <td>None</td>\n",
       "      <td>None</td>\n",
       "      <td>None</td>\n",
       "      <td>None</td>\n",
       "      <td>None</td>\n",
       "      <td>...</td>\n",
       "      <td>\"no\"</td>\n",
       "      <td>\"unknown\"</td>\n",
       "      <td>5</td>\n",
       "      <td>\"may\"</td>\n",
       "      <td>151</td>\n",
       "      <td>1</td>\n",
       "      <td>-1</td>\n",
       "      <td>0</td>\n",
       "      <td>\"unknown\"</td>\n",
       "      <td>\"no\"</td>\n",
       "    </tr>\n",
       "    <tr>\n",
       "      <th>2</th>\n",
       "      <td>33</td>\n",
       "      <td>None</td>\n",
       "      <td>None</td>\n",
       "      <td>None</td>\n",
       "      <td>None</td>\n",
       "      <td>None</td>\n",
       "      <td>None</td>\n",
       "      <td>None</td>\n",
       "      <td>None</td>\n",
       "      <td>None</td>\n",
       "      <td>...</td>\n",
       "      <td>\"yes\"</td>\n",
       "      <td>\"unknown\"</td>\n",
       "      <td>5</td>\n",
       "      <td>\"may\"</td>\n",
       "      <td>76</td>\n",
       "      <td>1</td>\n",
       "      <td>-1</td>\n",
       "      <td>0</td>\n",
       "      <td>\"unknown\"</td>\n",
       "      <td>\"no\"</td>\n",
       "    </tr>\n",
       "    <tr>\n",
       "      <th>3</th>\n",
       "      <td>47</td>\n",
       "      <td>None</td>\n",
       "      <td>None</td>\n",
       "      <td>None</td>\n",
       "      <td>None</td>\n",
       "      <td>None</td>\n",
       "      <td>None</td>\n",
       "      <td>None</td>\n",
       "      <td>None</td>\n",
       "      <td>None</td>\n",
       "      <td>...</td>\n",
       "      <td>\"no\"</td>\n",
       "      <td>\"unknown\"</td>\n",
       "      <td>5</td>\n",
       "      <td>\"may\"</td>\n",
       "      <td>92</td>\n",
       "      <td>1</td>\n",
       "      <td>-1</td>\n",
       "      <td>0</td>\n",
       "      <td>\"unknown\"</td>\n",
       "      <td>\"no\"</td>\n",
       "    </tr>\n",
       "    <tr>\n",
       "      <th>4</th>\n",
       "      <td>33</td>\n",
       "      <td>None</td>\n",
       "      <td>None</td>\n",
       "      <td>None</td>\n",
       "      <td>None</td>\n",
       "      <td>None</td>\n",
       "      <td>None</td>\n",
       "      <td>None</td>\n",
       "      <td>None</td>\n",
       "      <td>None</td>\n",
       "      <td>...</td>\n",
       "      <td>\"no\"</td>\n",
       "      <td>\"unknown\"</td>\n",
       "      <td>5</td>\n",
       "      <td>\"may\"</td>\n",
       "      <td>198</td>\n",
       "      <td>1</td>\n",
       "      <td>-1</td>\n",
       "      <td>0</td>\n",
       "      <td>\"unknown\"</td>\n",
       "      <td>\"no\"</td>\n",
       "    </tr>\n",
       "  </tbody>\n",
       "</table>\n",
       "<p>5 rows × 61 columns</p>\n",
       "</div>"
      ],
      "text/plain": [
       "  age \"job\" \"marital\" \"education\" \"default\" \"balance\" \"housing\" \"loan\"  \\\n",
       "0  58  None      None        None      None      None      None   None   \n",
       "1  44  None      None        None      None      None      None   None   \n",
       "2  33  None      None        None      None      None      None   None   \n",
       "3  47  None      None        None      None      None      None   None   \n",
       "4  33  None      None        None      None      None      None   None   \n",
       "\n",
       "  \"contact\" \"day\"  ...   loan    contact day  month duration campaign pdays  \\\n",
       "0      None  None  ...   \"no\"  \"unknown\"   5  \"may\"      261        1    -1   \n",
       "1      None  None  ...   \"no\"  \"unknown\"   5  \"may\"      151        1    -1   \n",
       "2      None  None  ...  \"yes\"  \"unknown\"   5  \"may\"       76        1    -1   \n",
       "3      None  None  ...   \"no\"  \"unknown\"   5  \"may\"       92        1    -1   \n",
       "4      None  None  ...   \"no\"  \"unknown\"   5  \"may\"      198        1    -1   \n",
       "\n",
       "  previous   poutcome     y  \n",
       "0        0  \"unknown\"  \"no\"  \n",
       "1        0  \"unknown\"  \"no\"  \n",
       "2        0  \"unknown\"  \"no\"  \n",
       "3        0  \"unknown\"  \"no\"  \n",
       "4        0  \"unknown\"  \"no\"  \n",
       "\n",
       "[5 rows x 61 columns]"
      ]
     },
     "execution_count": 30,
     "metadata": {},
     "output_type": "execute_result"
    }
   ],
   "source": [
    "new_data = pd.DataFrame(table) \n",
    "new_data.head()"
   ]
  },
  {
   "cell_type": "code",
   "execution_count": 17,
   "metadata": {},
   "outputs": [
    {
     "name": "stdout",
     "output_type": "stream",
     "text": [
      "<class 'pandas.core.frame.DataFrame'>\n"
     ]
    }
   ],
   "source": [
    "print(type(new_data))"
   ]
  },
  {
   "cell_type": "code",
   "execution_count": 18,
   "metadata": {},
   "outputs": [
    {
     "name": "stderr",
     "output_type": "stream",
     "text": [
      "/var/folders/5p/nlt6bn5j1j5dt69qrb8949sh0000gn/T/ipykernel_2721/1828498564.py:2: FutureWarning: ChainedAssignmentError: behaviour will change in pandas 3.0!\n",
      "You are setting values through chained assignment. Currently this works in certain cases, but when using Copy-on-Write (which will become the default behaviour in pandas 3.0) this will never work to update the original DataFrame or Series, because the intermediate object on which we are setting values will behave as a copy.\n",
      "A typical example is when you are setting values in a column of a DataFrame, like:\n",
      "\n",
      "df[\"col\"][row_indexer] = value\n",
      "\n",
      "Use `df.loc[row_indexer, \"col\"] = values` instead, to perform the assignment in a single step and ensure this keeps updating the original `df`.\n",
      "\n",
      "See the caveats in the documentation: https://pandas.pydata.org/pandas-docs/stable/user_guide/indexing.html#returning-a-view-versus-a-copy\n",
      "\n",
      "  new_data[\"balance\"][c] = int(new_data[\"balance\"][c])\n"
     ]
    }
   ],
   "source": [
    "for c in range(0, len(new_data[\"balance\"])):\n",
    "    new_data[\"balance\"][c] = int(new_data[\"balance\"][c])"
   ]
  },
  {
   "cell_type": "code",
   "execution_count": 19,
   "metadata": {},
   "outputs": [
    {
     "name": "stdout",
     "output_type": "stream",
     "text": [
      "-8019\n",
      "448.0\n",
      "102127\n"
     ]
    }
   ],
   "source": [
    "# Analyze the column Balance\n",
    "print(np.min(new_data[\"balance\"]))\n",
    "print(np.median(new_data[\"balance\"]))\n",
    "print(np.max(new_data[\"balance\"]))"
   ]
  },
  {
   "cell_type": "code",
   "execution_count": 20,
   "metadata": {},
   "outputs": [
    {
     "name": "stderr",
     "output_type": "stream",
     "text": [
      "/var/folders/5p/nlt6bn5j1j5dt69qrb8949sh0000gn/T/ipykernel_2721/2762743971.py:2: FutureWarning: ChainedAssignmentError: behaviour will change in pandas 3.0!\n",
      "You are setting values through chained assignment. Currently this works in certain cases, but when using Copy-on-Write (which will become the default behaviour in pandas 3.0) this will never work to update the original DataFrame or Series, because the intermediate object on which we are setting values will behave as a copy.\n",
      "A typical example is when you are setting values in a column of a DataFrame, like:\n",
      "\n",
      "df[\"col\"][row_indexer] = value\n",
      "\n",
      "Use `df.loc[row_indexer, \"col\"] = values` instead, to perform the assignment in a single step and ensure this keeps updating the original `df`.\n",
      "\n",
      "See the caveats in the documentation: https://pandas.pydata.org/pandas-docs/stable/user_guide/indexing.html#returning-a-view-versus-a-copy\n",
      "\n",
      "  new_data[\"age\"][d] = int(new_data['age'][d])\n"
     ]
    }
   ],
   "source": [
    "for d in range(0, len(new_data[\"age\"])):\n",
    "    new_data[\"age\"][d] = int(new_data['age'][d])"
   ]
  },
  {
   "cell_type": "code",
   "execution_count": 21,
   "metadata": {},
   "outputs": [
    {
     "name": "stdout",
     "output_type": "stream",
     "text": [
      "18\n",
      "39.0\n",
      "95\n"
     ]
    }
   ],
   "source": [
    "# Analyze the column Age\n",
    "print(np.min(new_data[\"age\"]))\n",
    "print(np.median(new_data[\"age\"]))\n",
    "print(np.max(new_data[\"age\"]))"
   ]
  },
  {
   "cell_type": "markdown",
   "metadata": {},
   "source": [
    "Create a Linear Regression Model for age and bank account balance"
   ]
  },
  {
   "cell_type": "code",
   "execution_count": 22,
   "metadata": {},
   "outputs": [
    {
     "data": {
      "image/png": "[encoded data removed]",
      "text/plain": [
       "<Figure size 640x480 with 1 Axes>"
      ]
     },
     "metadata": {},
     "output_type": "display_data"
    }
   ],
   "source": [
    "x = new_data[\"age\"]\n",
    "y = new_data[\"balance\"]\n",
    "plt.scatter(x, y , s = 1.5)\n",
    "plt.title(\"The relationship between customers' age and their bank account balance\")\n",
    "plt.xlabel(\"Age\")\n",
    "plt.ylabel(\"Bank Account Balance\")\n",
    "\n",
    "plt.xticks( np.arange(20 , 90 , 10) )\n",
    "plt.yticks( np.arange(-4000, 80000, 20000) )\n",
    "\n",
    "balance_y_scatter = plt.gcf()"
   ]
  },
  {
   "cell_type": "code",
   "execution_count": 23,
   "metadata": {},
   "outputs": [],
   "source": [
    "x_array = np.array( x)\n",
    "x_new = x_array.reshape(-1, 1)"
   ]
  },
  {
   "cell_type": "code",
   "execution_count": 24,
   "metadata": {},
   "outputs": [],
   "source": [
    "y_array = np.array(y)\n",
    "y_new = y_array.reshape(-1, 1)"
   ]
  },
  {
   "cell_type": "code",
   "execution_count": 25,
   "metadata": {},
   "outputs": [
    {
     "data": {
      "text/html": [
       "<style>#sk-container-id-1 {\n",
       "  /* Definition of color scheme common for light and dark mode */\n",
       "  --sklearn-color-text: black;\n",
       "  --sklearn-color-line: gray;\n",
       "  /* Definition of color scheme for unfitted estimators */\n",
       "  --sklearn-color-unfitted-level-0: #fff5e6;\n",
       "  --sklearn-color-unfitted-level-1: #f6e4d2;\n",
       "  --sklearn-color-unfitted-level-2: #ffe0b3;\n",
       "  --sklearn-color-unfitted-level-3: chocolate;\n",
       "  /* Definition of color scheme for fitted estimators */\n",
       "  --sklearn-color-fitted-level-0: #f0f8ff;\n",
       "  --sklearn-color-fitted-level-1: #d4ebff;\n",
       "  --sklearn-color-fitted-level-2: #b3dbfd;\n",
       "  --sklearn-color-fitted-level-3: cornflowerblue;\n",
       "\n",
       "  /* Specific color for light theme */\n",
       "  --sklearn-color-text-on-default-background: var(--sg-text-color, var(--theme-code-foreground, var(--jp-content-font-color1, black)));\n",
       "  --sklearn-color-background: var(--sg-background-color, var(--theme-background, var(--jp-layout-color0, white)));\n",
       "  --sklearn-color-border-box: var(--sg-text-color, var(--theme-code-foreground, var(--jp-content-font-color1, black)));\n",
       "  --sklearn-color-icon: #696969;\n",
       "\n",
       "  @media (prefers-color-scheme: dark) {\n",
       "    /* Redefinition of color scheme for dark theme */\n",
       "    --sklearn-color-text-on-default-background: var(--sg-text-color, var(--theme-code-foreground, var(--jp-content-font-color1, white)));\n",
       "    --sklearn-color-background: var(--sg-background-color, var(--theme-background, var(--jp-layout-color0, #111)));\n",
       "    --sklearn-color-border-box: var(--sg-text-color, var(--theme-code-foreground, var(--jp-content-font-color1, white)));\n",
       "    --sklearn-color-icon: #878787;\n",
       "  }\n",
       "}\n",
       "\n",
       "#sk-container-id-1 {\n",
       "  color: var(--sklearn-color-text);\n",
       "}\n",
       "\n",
       "#sk-container-id-1 pre {\n",
       "  padding: 0;\n",
       "}\n",
       "\n",
       "#sk-container-id-1 input.sk-hidden--visually {\n",
       "  border: 0;\n",
       "  clip: rect(1px 1px 1px 1px);\n",
       "  clip: rect(1px, 1px, 1px, 1px);\n",
       "  height: 1px;\n",
       "  margin: -1px;\n",
       "  overflow: hidden;\n",
       "  padding: 0;\n",
       "  position: absolute;\n",
       "  width: 1px;\n",
       "}\n",
       "\n",
       "#sk-container-id-1 div.sk-dashed-wrapped {\n",
       "  border: 1px dashed var(--sklearn-color-line);\n",
       "  margin: 0 0.4em 0.5em 0.4em;\n",
       "  box-sizing: border-box;\n",
       "  padding-bottom: 0.4em;\n",
       "  background-color: var(--sklearn-color-background);\n",
       "}\n",
       "\n",
       "#sk-container-id-1 div.sk-container {\n",
       "  /* jupyter's `normalize.less` sets `[hidden] { display: none; }`\n",
       "     but bootstrap.min.css set `[hidden] { display: none !important; }`\n",
       "     so we also need the `!important` here to be able to override the\n",
       "     default hidden behavior on the sphinx rendered scikit-learn.org.\n",
       "     See: https://github.com/scikit-learn/scikit-learn/issues/21755 */\n",
       "  display: inline-block !important;\n",
       "  position: relative;\n",
       "}\n",
       "\n",
       "#sk-container-id-1 div.sk-text-repr-fallback {\n",
       "  display: none;\n",
       "}\n",
       "\n",
       "div.sk-parallel-item,\n",
       "div.sk-serial,\n",
       "div.sk-item {\n",
       "  /* draw centered vertical line to link estimators */\n",
       "  background-image: linear-gradient(var(--sklearn-color-text-on-default-background), var(--sklearn-color-text-on-default-background));\n",
       "  background-size: 2px 100%;\n",
       "  background-repeat: no-repeat;\n",
       "  background-position: center center;\n",
       "}\n",
       "\n",
       "/* Parallel-specific style estimator block */\n",
       "\n",
       "#sk-container-id-1 div.sk-parallel-item::after {\n",
       "  content: \"\";\n",
       "  width: 100%;\n",
       "  border-bottom: 2px solid var(--sklearn-color-text-on-default-background);\n",
       "  flex-grow: 1;\n",
       "}\n",
       "\n",
       "#sk-container-id-1 div.sk-parallel {\n",
       "  display: flex;\n",
       "  align-items: stretch;\n",
       "  justify-content: center;\n",
       "  background-color: var(--sklearn-color-background);\n",
       "  position: relative;\n",
       "}\n",
       "\n",
       "#sk-container-id-1 div.sk-parallel-item {\n",
       "  display: flex;\n",
       "  flex-direction: column;\n",
       "}\n",
       "\n",
       "#sk-container-id-1 div.sk-parallel-item:first-child::after {\n",
       "  align-self: flex-end;\n",
       "  width: 50%;\n",
       "}\n",
       "\n",
       "#sk-container-id-1 div.sk-parallel-item:last-child::after {\n",
       "  align-self: flex-start;\n",
       "  width: 50%;\n",
       "}\n",
       "\n",
       "#sk-container-id-1 div.sk-parallel-item:only-child::after {\n",
       "  width: 0;\n",
       "}\n",
       "\n",
       "/* Serial-specific style estimator block */\n",
       "\n",
       "#sk-container-id-1 div.sk-serial {\n",
       "  display: flex;\n",
       "  flex-direction: column;\n",
       "  align-items: center;\n",
       "  background-color: var(--sklearn-color-background);\n",
       "  padding-right: 1em;\n",
       "  padding-left: 1em;\n",
       "}\n",
       "\n",
       "\n",
       "/* Toggleable style: style used for estimator/Pipeline/ColumnTransformer box that is\n",
       "clickable and can be expanded/collapsed.\n",
       "- Pipeline and ColumnTransformer use this feature and define the default style\n",
       "- Estimators will overwrite some part of the style using the `sk-estimator` class\n",
       "*/\n",
       "\n",
       "/* Pipeline and ColumnTransformer style (default) */\n",
       "\n",
       "#sk-container-id-1 div.sk-toggleable {\n",
       "  /* Default theme specific background. It is overwritten whether we have a\n",
       "  specific estimator or a Pipeline/ColumnTransformer */\n",
       "  background-color: var(--sklearn-color-background);\n",
       "}\n",
       "\n",
       "/* Toggleable label */\n",
       "#sk-container-id-1 label.sk-toggleable__label {\n",
       "  cursor: pointer;\n",
       "  display: block;\n",
       "  width: 100%;\n",
       "  margin-bottom: 0;\n",
       "  padding: 0.5em;\n",
       "  box-sizing: border-box;\n",
       "  text-align: center;\n",
       "}\n",
       "\n",
       "#sk-container-id-1 label.sk-toggleable__label-arrow:before {\n",
       "  /* Arrow on the left of the label */\n",
       "  content: \"▸\";\n",
       "  float: left;\n",
       "  margin-right: 0.25em;\n",
       "  color: var(--sklearn-color-icon);\n",
       "}\n",
       "\n",
       "#sk-container-id-1 label.sk-toggleable__label-arrow:hover:before {\n",
       "  color: var(--sklearn-color-text);\n",
       "}\n",
       "\n",
       "/* Toggleable content - dropdown */\n",
       "\n",
       "#sk-container-id-1 div.sk-toggleable__content {\n",
       "  max-height: 0;\n",
       "  max-width: 0;\n",
       "  overflow: hidden;\n",
       "  text-align: left;\n",
       "  /* unfitted */\n",
       "  background-color: var(--sklearn-color-unfitted-level-0);\n",
       "}\n",
       "\n",
       "#sk-container-id-1 div.sk-toggleable__content.fitted {\n",
       "  /* fitted */\n",
       "  background-color: var(--sklearn-color-fitted-level-0);\n",
       "}\n",
       "\n",
       "#sk-container-id-1 div.sk-toggleable__content pre {\n",
       "  margin: 0.2em;\n",
       "  border-radius: 0.25em;\n",
       "  color: var(--sklearn-color-text);\n",
       "  /* unfitted */\n",
       "  background-color: var(--sklearn-color-unfitted-level-0);\n",
       "}\n",
       "\n",
       "#sk-container-id-1 div.sk-toggleable__content.fitted pre {\n",
       "  /* unfitted */\n",
       "  background-color: var(--sklearn-color-fitted-level-0);\n",
       "}\n",
       "\n",
       "#sk-container-id-1 input.sk-toggleable__control:checked~div.sk-toggleable__content {\n",
       "  /* Expand drop-down */\n",
       "  max-height: 200px;\n",
       "  max-width: 100%;\n",
       "  overflow: auto;\n",
       "}\n",
       "\n",
       "#sk-container-id-1 input.sk-toggleable__control:checked~label.sk-toggleable__label-arrow:before {\n",
       "  content: \"▾\";\n",
       "}\n",
       "\n",
       "/* Pipeline/ColumnTransformer-specific style */\n",
       "\n",
       "#sk-container-id-1 div.sk-label input.sk-toggleable__control:checked~label.sk-toggleable__label {\n",
       "  color: var(--sklearn-color-text);\n",
       "  background-color: var(--sklearn-color-unfitted-level-2);\n",
       "}\n",
       "\n",
       "#sk-container-id-1 div.sk-label.fitted input.sk-toggleable__control:checked~label.sk-toggleable__label {\n",
       "  background-color: var(--sklearn-color-fitted-level-2);\n",
       "}\n",
       "\n",
       "/* Estimator-specific style */\n",
       "\n",
       "/* Colorize estimator box */\n",
       "#sk-container-id-1 div.sk-estimator input.sk-toggleable__control:checked~label.sk-toggleable__label {\n",
       "  /* unfitted */\n",
       "  background-color: var(--sklearn-color-unfitted-level-2);\n",
       "}\n",
       "\n",
       "#sk-container-id-1 div.sk-estimator.fitted input.sk-toggleable__control:checked~label.sk-toggleable__label {\n",
       "  /* fitted */\n",
       "  background-color: var(--sklearn-color-fitted-level-2);\n",
       "}\n",
       "\n",
       "#sk-container-id-1 div.sk-label label.sk-toggleable__label,\n",
       "#sk-container-id-1 div.sk-label label {\n",
       "  /* The background is the default theme color */\n",
       "  color: var(--sklearn-color-text-on-default-background);\n",
       "}\n",
       "\n",
       "/* On hover, darken the color of the background */\n",
       "#sk-container-id-1 div.sk-label:hover label.sk-toggleable__label {\n",
       "  color: var(--sklearn-color-text);\n",
       "  background-color: var(--sklearn-color-unfitted-level-2);\n",
       "}\n",
       "\n",
       "/* Label box, darken color on hover, fitted */\n",
       "#sk-container-id-1 div.sk-label.fitted:hover label.sk-toggleable__label.fitted {\n",
       "  color: var(--sklearn-color-text);\n",
       "  background-color: var(--sklearn-color-fitted-level-2);\n",
       "}\n",
       "\n",
       "/* Estimator label */\n",
       "\n",
       "#sk-container-id-1 div.sk-label label {\n",
       "  font-family: monospace;\n",
       "  font-weight: bold;\n",
       "  display: inline-block;\n",
       "  line-height: 1.2em;\n",
       "}\n",
       "\n",
       "#sk-container-id-1 div.sk-label-container {\n",
       "  text-align: center;\n",
       "}\n",
       "\n",
       "/* Estimator-specific */\n",
       "#sk-container-id-1 div.sk-estimator {\n",
       "  font-family: monospace;\n",
       "  border: 1px dotted var(--sklearn-color-border-box);\n",
       "  border-radius: 0.25em;\n",
       "  box-sizing: border-box;\n",
       "  margin-bottom: 0.5em;\n",
       "  /* unfitted */\n",
       "  background-color: var(--sklearn-color-unfitted-level-0);\n",
       "}\n",
       "\n",
       "#sk-container-id-1 div.sk-estimator.fitted {\n",
       "  /* fitted */\n",
       "  background-color: var(--sklearn-color-fitted-level-0);\n",
       "}\n",
       "\n",
       "/* on hover */\n",
       "#sk-container-id-1 div.sk-estimator:hover {\n",
       "  /* unfitted */\n",
       "  background-color: var(--sklearn-color-unfitted-level-2);\n",
       "}\n",
       "\n",
       "#sk-container-id-1 div.sk-estimator.fitted:hover {\n",
       "  /* fitted */\n",
       "  background-color: var(--sklearn-color-fitted-level-2);\n",
       "}\n",
       "\n",
       "/* Specification for estimator info (e.g. \"i\" and \"?\") */\n",
       "\n",
       "/* Common style for \"i\" and \"?\" */\n",
       "\n",
       ".sk-estimator-doc-link,\n",
       "a:link.sk-estimator-doc-link,\n",
       "a:visited.sk-estimator-doc-link {\n",
       "  float: right;\n",
       "  font-size: smaller;\n",
       "  line-height: 1em;\n",
       "  font-family: monospace;\n",
       "  background-color: var(--sklearn-color-background);\n",
       "  border-radius: 1em;\n",
       "  height: 1em;\n",
       "  width: 1em;\n",
       "  text-decoration: none !important;\n",
       "  margin-left: 1ex;\n",
       "  /* unfitted */\n",
       "  border: var(--sklearn-color-unfitted-level-1) 1pt solid;\n",
       "  color: var(--sklearn-color-unfitted-level-1);\n",
       "}\n",
       "\n",
       ".sk-estimator-doc-link.fitted,\n",
       "a:link.sk-estimator-doc-link.fitted,\n",
       "a:visited.sk-estimator-doc-link.fitted {\n",
       "  /* fitted */\n",
       "  border: var(--sklearn-color-fitted-level-1) 1pt solid;\n",
       "  color: var(--sklearn-color-fitted-level-1);\n",
       "}\n",
       "\n",
       "/* On hover */\n",
       "div.sk-estimator:hover .sk-estimator-doc-link:hover,\n",
       ".sk-estimator-doc-link:hover,\n",
       "div.sk-label-container:hover .sk-estimator-doc-link:hover,\n",
       ".sk-estimator-doc-link:hover {\n",
       "  /* unfitted */\n",
       "  background-color: var(--sklearn-color-unfitted-level-3);\n",
       "  color: var(--sklearn-color-background);\n",
       "  text-decoration: none;\n",
       "}\n",
       "\n",
       "div.sk-estimator.fitted:hover .sk-estimator-doc-link.fitted:hover,\n",
       ".sk-estimator-doc-link.fitted:hover,\n",
       "div.sk-label-container:hover .sk-estimator-doc-link.fitted:hover,\n",
       ".sk-estimator-doc-link.fitted:hover {\n",
       "  /* fitted */\n",
       "  background-color: var(--sklearn-color-fitted-level-3);\n",
       "  color: var(--sklearn-color-background);\n",
       "  text-decoration: none;\n",
       "}\n",
       "\n",
       "/* Span, style for the box shown on hovering the info icon */\n",
       ".sk-estimator-doc-link span {\n",
       "  display: none;\n",
       "  z-index: 9999;\n",
       "  position: relative;\n",
       "  font-weight: normal;\n",
       "  right: .2ex;\n",
       "  padding: .5ex;\n",
       "  margin: .5ex;\n",
       "  width: min-content;\n",
       "  min-width: 20ex;\n",
       "  max-width: 50ex;\n",
       "  color: var(--sklearn-color-text);\n",
       "  box-shadow: 2pt 2pt 4pt #999;\n",
       "  /* unfitted */\n",
       "  background: var(--sklearn-color-unfitted-level-0);\n",
       "  border: .5pt solid var(--sklearn-color-unfitted-level-3);\n",
       "}\n",
       "\n",
       ".sk-estimator-doc-link.fitted span {\n",
       "  /* fitted */\n",
       "  background: var(--sklearn-color-fitted-level-0);\n",
       "  border: var(--sklearn-color-fitted-level-3);\n",
       "}\n",
       "\n",
       ".sk-estimator-doc-link:hover span {\n",
       "  display: block;\n",
       "}\n",
       "\n",
       "/* \"?\"-specific style due to the `<a>` HTML tag */\n",
       "\n",
       "#sk-container-id-1 a.estimator_doc_link {\n",
       "  float: right;\n",
       "  font-size: 1rem;\n",
       "  line-height: 1em;\n",
       "  font-family: monospace;\n",
       "  background-color: var(--sklearn-color-background);\n",
       "  border-radius: 1rem;\n",
       "  height: 1rem;\n",
       "  width: 1rem;\n",
       "  text-decoration: none;\n",
       "  /* unfitted */\n",
       "  color: var(--sklearn-color-unfitted-level-1);\n",
       "  border: var(--sklearn-color-unfitted-level-1) 1pt solid;\n",
       "}\n",
       "\n",
       "#sk-container-id-1 a.estimator_doc_link.fitted {\n",
       "  /* fitted */\n",
       "  border: var(--sklearn-color-fitted-level-1) 1pt solid;\n",
       "  color: var(--sklearn-color-fitted-level-1);\n",
       "}\n",
       "\n",
       "/* On hover */\n",
       "#sk-container-id-1 a.estimator_doc_link:hover {\n",
       "  /* unfitted */\n",
       "  background-color: var(--sklearn-color-unfitted-level-3);\n",
       "  color: var(--sklearn-color-background);\n",
       "  text-decoration: none;\n",
       "}\n",
       "\n",
       "#sk-container-id-1 a.estimator_doc_link.fitted:hover {\n",
       "  /* fitted */\n",
       "  background-color: var(--sklearn-color-fitted-level-3);\n",
       "}\n",
       "</style><div id=\"sk-container-id-1\" class=\"sk-top-container\"><div class=\"sk-text-repr-fallback\"><pre>LinearRegression()</pre><b>In a Jupyter environment, please rerun this cell to show the HTML representation or trust the notebook. <br />On GitHub, the HTML representation is unable to render, please try loading this page with nbviewer.org.</b></div><div class=\"sk-container\" hidden><div class=\"sk-item\"><div class=\"sk-estimator fitted sk-toggleable\"><input class=\"sk-toggleable__control sk-hidden--visually\" id=\"sk-estimator-id-1\" type=\"checkbox\" checked><label for=\"sk-estimator-id-1\" class=\"sk-toggleable__label fitted sk-toggleable__label-arrow fitted\">&nbsp;&nbsp;LinearRegression<a class=\"sk-estimator-doc-link fitted\" rel=\"noreferrer\" target=\"_blank\" href=\"https://scikit-learn.org/1.5/modules/generated/sklearn.linear_model.LinearRegression.html\">?<span>Documentation for LinearRegression</span></a><span class=\"sk-estimator-doc-link fitted\">i<span>Fitted</span></span></label><div class=\"sk-toggleable__content fitted\"><pre>LinearRegression()</pre></div> </div></div></div></div>"
      ],
      "text/plain": [
       "LinearRegression()"
      ]
     },
     "execution_count": 25,
     "metadata": {},
     "output_type": "execute_result"
    }
   ],
   "source": [
    "model = LinearRegression()\n",
    "model.fit(x_new,y_new)"
   ]
  },
  {
   "cell_type": "code",
   "execution_count": 26,
   "metadata": {},
   "outputs": [
    {
     "name": "stdout",
     "output_type": "stream",
     "text": [
      "The intercept is 214.51534285379807 and the slope is 28.037688609229004\n",
      "The equation is y = 28.037688609229004x + 214.51534285379807\n"
     ]
    }
   ],
   "source": [
    "b0 = model.intercept_[0]\n",
    "b1 = model.coef_[0][0]\n",
    "print(f\"The intercept is {b0} and the slope is {b1}\\nThe equation is y = {b1}x + {b0}\")"
   ]
  },
  {
   "cell_type": "code",
   "execution_count": 27,
   "metadata": {},
   "outputs": [
    {
     "name": "stdout",
     "output_type": "stream",
     "text": [
      "The correlation coefficient is 0.009561464118964857\n"
     ]
    }
   ],
   "source": [
    "r_2 = model.score(x_new,y_new)\n",
    "print(f\"The correlation coefficient is {r_2}\")"
   ]
  },
  {
   "cell_type": "code",
   "execution_count": 28,
   "metadata": {},
   "outputs": [
    {
     "data": {
      "text/plain": [
       "Text(0, 0.5, 'Bank account balance')"
      ]
     },
     "execution_count": 28,
     "metadata": {},
     "output_type": "execute_result"
    },
    {
     "data": {
      "image/png": "[encoded data removed]",
      "text/plain": [
       "<Figure size 640x480 with 1 Axes>"
      ]
     },
     "metadata": {},
     "output_type": "display_data"
    }
   ],
   "source": [
    "plt.scatter(x_new, y_new)\n",
    "plt.plot(x_new, model.predict(x_new), color = \"red\")\n",
    "\n",
    "plt.title(\"The relationship between customers' age and their bank account balance\")\n",
    "plt.xlabel(\"Age\")\n",
    "plt.ylabel(\"Bank account balance\")"
   ]
  },
  {
   "cell_type": "markdown",
   "metadata": {},
   "source": [
    "## Conclusion: there is no correlation between age and bank account balance"
   ]
  }
 ],
 "metadata": {
  "kernelspec": {
   "display_name": "Python 3",
   "language": "python",
   "name": "python3"
  },
  "language_info": {
   "codemirror_mode": {
    "name": "ipython",
    "version": 3
   },
   "file_extension": ".py",
   "mimetype": "text/x-python",
   "name": "python",
   "nbconvert_exporter": "python",
   "pygments_lexer": "ipython3",
   "version": "3.12.1"
  }
 },
 "nbformat": 4,
 "nbformat_minor": 2
}
